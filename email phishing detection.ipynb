{
 "cells": [
  {
   "cell_type": "code",
   "execution_count": 10,
   "id": "a9991b0b-096c-4738-bbca-a3a8c8d6de02",
   "metadata": {},
   "outputs": [
    {
     "name": "stderr",
     "output_type": "stream",
     "text": [
      "[nltk_data] Downloading package stopwords to\n",
      "[nltk_data]     C:\\Users\\sidda\\AppData\\Roaming\\nltk_data...\n",
      "[nltk_data]   Package stopwords is already up-to-date!\n"
     ]
    },
    {
     "name": "stdout",
     "output_type": "stream",
     "text": [
      "Accuracy: 0.96\n",
      "              precision    recall  f1-score   support\n",
      "\n",
      "           0       0.98      0.96      0.97       382\n",
      "           1       0.93      0.96      0.94       205\n",
      "\n",
      "    accuracy                           0.96       587\n",
      "   macro avg       0.95      0.96      0.96       587\n",
      "weighted avg       0.96      0.96      0.96       587\n",
      "\n"
     ]
    },
    {
     "data": {
      "text/plain": [
       "['tfidf_vectorizer.joblib']"
      ]
     },
     "execution_count": 10,
     "metadata": {},
     "output_type": "execute_result"
    }
   ],
   "source": [
    "#Main code for the step\n",
    "import base64\n",
    "import re\n",
    "import os\n",
    "import pandas as pd\n",
    "import nltk\n",
    "from fastapi import FastAPI\n",
    "from googleapiclient.discovery import build\n",
    "from google.oauth2.credentials import Credentials\n",
    "from nltk.corpus import stopwords\n",
    "from sklearn.feature_extraction.text import TfidfVectorizer\n",
    "from sklearn.model_selection import train_test_split\n",
    "from sklearn.ensemble import RandomForestClassifier\n",
    "from sklearn.metrics import classification_report,accuracy_score\n",
    "from plyer import notification\n",
    "from datetime import datetime\n",
    "from apscheduler.schedulers.background import BackgroundScheduler\n",
    "from joblib import dump\n",
    "nltk.download('stopwords')\n",
    "# Load and train the model\n",
    "def clean_text(text):\n",
    "    if isinstance(text, float):\n",
    "        text = str(text)\n",
    "    text = re.sub(r'<.*?>', '', text)\n",
    "    text = re.sub(r'[^\\w\\s]', '', text)\n",
    "    text = text.lower()\n",
    "    text = ' '.join(word for word in text.split() if word not in stopwords.words('english'))\n",
    "    return text\n",
    "\n",
    "data = pd.read_csv('Book1.csv')\n",
    "data['text'] = data['text'].fillna('').apply(clean_text)\n",
    "data = data[data['label'].isin(['legitimate', 'phishing'])]\n",
    "tfidf = TfidfVectorizer(max_features=3000)\n",
    "X = tfidf.fit_transform(data['text']).toarray()\n",
    "y = data['label'].map({'legitimate': 0, 'phishing': 1}).astype(int)\n",
    "X_train, X_test, y_train, y_test = train_test_split(X, y, test_size=0.2, random_state=42)\n",
    "model = RandomForestClassifier(n_estimators=100, random_state=42)\n",
    "model.fit(X_train, y_train)\n",
    "y_pred = model.predict(X_test)\n",
    "accuracy = accuracy_score(y_test, y_pred)\n",
    "print(f\"Accuracy: {accuracy:.2f}\")\n",
    "print(classification_report(y_test, y_pred))\n",
    "\n",
    "dump(model, 'model.joblib')\n",
    "dump(tfidf, 'tfidf_vectorizer.joblib') # saving the code for not to train again"
   ]
  },
  {
   "cell_type": "code",
   "execution_count": null,
   "id": "f3b1947f-6f82-4682-b764-04b7f38bf80c",
   "metadata": {},
   "outputs": [],
   "source": [
    "#This code is for after saving the above code to access the saved code this is the code\n",
    "#Note: After excuting the first code you directly run the third code\n",
    "# second is for just to show how to run the saved model\n",
    "import base64\n",
    "import re\n",
    "import os\n",
    "import pandas as pd\n",
    "import nltk\n",
    "from fastapi import FastAPI\n",
    "from googleapiclient.discovery import build\n",
    "from google.oauth2.credentials import Credentials\n",
    "from nltk.corpus import stopwords\n",
    "from sklearn.feature_extraction.text import TfidfVectorizer\n",
    "from sklearn.model_selection import train_test_split\n",
    "from sklearn.ensemble import RandomForestClassifier\n",
    "from sklearn.metrics import classification_report,accuracy_score\n",
    "from plyer import notification\n",
    "from datetime import datetime\n",
    "from apscheduler.schedulers.background import BackgroundScheduler\n",
    "from joblib import load\n",
    "\n",
    "nltk.download('stopwords')\n",
    "\n",
    "# Load the trained model and TF-IDF vectorizer\n",
    "model = load('model.joblib')\n",
    "tfidf = load('tfidf_vectorizer.joblib')\n",
    "\n",
    "def clean_text(text):\n",
    "    if isinstance(text, float):\n",
    "        text = str(text)\n",
    "    text = re.sub(r'<.*?>', '', text)\n",
    "    text = re.sub(r'[^\\w\\s]', '', text)\n",
    "    text = text.lower()\n",
    "    text = ' '.join(word for word in text.split() if word not in stopwords.words('english'))\n",
    "    return text"
   ]
  },
  {
   "cell_type": "code",
   "execution_count": 6,
   "id": "f2b68925-07fb-4269-84a3-a96739ab2043",
   "metadata": {},
   "outputs": [
    {
     "name": "stdout",
     "output_type": "stream",
     "text": [
      "Please visit this URL to authorize this application: https://accounts.google.com/o/oauth2/auth?response_type=code&client_id=559093843797-4usqlmepggg7qafq1n0d39i5moas14a9.apps.googleusercontent.com&redirect_uri=http%3A%2F%2Flocalhost%3A65506%2F&scope=https%3A%2F%2Fwww.googleapis.com%2Fauth%2Fgmail.modify&state=WnO84GNNk1Hd8vWEPHu0rgCvE6qfHv&access_type=offline\n"
     ]
    }
   ],
   "source": [
    "import os.path\n",
    "from google.auth.transport.requests import Request\n",
    "from google.oauth2.credentials import Credentials\n",
    "from google_auth_oauthlib.flow import InstalledAppFlow\n",
    "from googleapiclient.discovery import build\n",
    "\n",
    "SCOPES = ['https://www.googleapis.com/auth/gmail.modify']\n",
    "\n",
    "creds = None\n",
    "\n",
    "if not creds or not creds.valid:\n",
    "    if creds and creds.expired and creds.refresh_token:\n",
    "        creds.refresh(Request())\n",
    "    else:\n",
    "        flow = InstalledAppFlow.from_client_secrets_file('credentials.json', SCOPES)\n",
    "        creds = flow.run_local_server(port=0)\n",
    "    with open('token.json', 'w') as token:\n",
    "        token.write(creds.to_json())\n",
    "\n",
    "service = build('gmail', 'v1', credentials=creds) #after running this code click on the below link and sign in to your gmail account\n",
    "#and to sign in to the gmail account get the gmail api creditionals"
   ]
  },
  {
   "cell_type": "code",
   "execution_count": 7,
   "id": "f8332561-5d77-49f2-92e4-1c9255bf68ac",
   "metadata": {},
   "outputs": [
    {
     "name": "stdout",
     "output_type": "stream",
     "text": [
      "Message snippet: LIVE WEBINAR 04 Jul 2024 12:00 PM (GMT+5.5) Hosted by: Sanjeev Azad - GlobalLogic, Amit Kumar Shrivastava - Fujitsu India, Jaya Kishore Reddy - Yellow.ai, Jayachandran Ramachandran - C5i, Ramesh\n",
      "Classification: legitimate\n",
      "Message snippet: Daily Newsletter Monday, 1st July 2024 DXC Technology in trouble over delayed onboarding of 4800 freshers It&#39;s raining jobs at Hexaware Technologies for IT professionals; check jobs here From\n",
      "Classification: phishing\n",
      "Message snippet: Srinu, join groups to connect with people who share your interests. Join groups to connect with people who share your interests. RECOMMENDED FOR YOU Cote De Pablo COTE DE PABLO FANS (NCIS) Visit Group\n",
      "Classification: phishing\n",
      "Message snippet: Daily Newsletter Monday, 1st July 2024 Goldman Sachs hiring freshers for Summer Analyst Programme; CS and IT grads apply now Zig emerges as highest-paying programming language in 2024 Loyalty Programs\n",
      "Classification: legitimate\n",
      "Message snippet: Daily Newsletter Monday, 1st July 2024 DXC Technology in trouble over delayed onboarding of 4800 freshers It&#39;s raining jobs at Hexaware Technologies for IT professionals; check jobs here From\n",
      "Classification: phishing\n",
      "Message snippet: Your skills seem to match this job ͏ ͏ ͏ ͏ ͏ ͏ ͏ ͏ ͏ ͏ ͏ ͏ ͏ ͏ ͏ ͏ ͏ ͏ ͏ ͏ ͏ ͏ ͏ ͏ ͏ ͏ ͏ ͏ ͏ ͏ ͏ ͏ ͏ ͏ ͏ ͏ ͏ ͏ ͏ ͏ ͏ ͏ ͏ ͏ ͏ ͏ ͏ ͏ ͏ ͏ ͏ ͏ ͏ ͏ ͏ ͏ ͏ ͏ ͏ ͏ ͏ ͏ ͏ ͏ ͏ ͏ ͏ ͏ ͏ ͏ ͏ ͏ ͏ ͏ ͏ ͏ ͏ ͏ ͏ ͏ ͏ ͏ ͏\n",
      "Classification: legitimate\n",
      "Message snippet: Srinu, join groups to connect with people who share your interests. Join groups to connect with people who share your interests. RECOMMENDED FOR YOU Cote De Pablo COTE DE PABLO FANS (NCIS) Visit Group\n",
      "Classification: phishing\n",
      "Message snippet: View jobs in India ͏ ͏ ͏ ͏ ͏ ͏ ͏ ͏ ͏ ͏ ͏ ͏ ͏ ͏ ͏ ͏ ͏ ͏ ͏ ͏ ͏ ͏ ͏ ͏ ͏ ͏ ͏ ͏ ͏ ͏ ͏ ͏ ͏ ͏ ͏ ͏ ͏ ͏ ͏ ͏ ͏ ͏ ͏ ͏ ͏ ͏ ͏ ͏ ͏ ͏ ͏ ͏ ͏ ͏ ͏ ͏ ͏ ͏ ͏ ͏ ͏ ͏ ͏ ͏ ͏ ͏ ͏ ͏ ͏ ͏ ͏ ͏ ͏ ͏ ͏ ͏ ͏ ͏ ͏ ͏ ͏ ͏ ͏ ͏ ͏ ͏ ͏ ͏ ͏ ͏ ͏\n",
      "Classification: legitimate\n",
      "No messages found in label TRASH.\n",
      "Message snippet: LIVE WEBINAR 04 Jul 2024 12:00 PM (GMT+5.5) Hosted by: Sanjeev Azad - GlobalLogic, Amit Kumar Shrivastava - Fujitsu India, Jaya Kishore Reddy - Yellow.ai, Jayachandran Ramachandran - C5i, Ramesh\n",
      "Classification: legitimate\n",
      "Message snippet: Daily Newsletter Monday, 1st July 2024 Goldman Sachs hiring freshers for Summer Analyst Programme; CS and IT grads apply now Zig emerges as highest-paying programming language in 2024 Loyalty Programs\n",
      "Classification: legitimate\n",
      "No messages found in label CATEGORY_FORUMS.\n"
     ]
    }
   ],
   "source": [
    "#after running the above two codes run this code to get the output\n",
    "from datetime import datetime, timedelta\n",
    "# Email classification function\n",
    "def classify_email(email_content, model, tfidf):\n",
    "    email_content_clean = clean_text(email_content)\n",
    "    email_features = tfidf.transform([email_content_clean]).toarray()\n",
    "    return 'phishing' if model.predict(email_features)[0] else 'legitimate'\n",
    "\n",
    "def fetch_today_emails(service, model, tfidf):\n",
    "    # Get today's date\n",
    "    today = datetime.now().date()\n",
    "\n",
    "    # Specify the list of label IDs to fetch emails from\n",
    "    label_ids = ['INBOX', 'SPAM', 'SENT', 'IMPORTANT', 'TRASH', 'DRAFT', 'CATEGORY_UPDATES', 'CATEGORY_FORUMS', 'CATEGORY_PROMOTIONS', 'CATEGORY_SOCIAL']\n",
    "\n",
    "    for label_id in label_ids:\n",
    "        # Call the Gmail API to fetch emails from the current label\n",
    "        results = service.users().messages().list(userId='me', labelIds=[label_id], maxResults=10).execute()\n",
    "        messages = results.get('messages', [])\n",
    "\n",
    "        if not messages:\n",
    "            print(f'No messages found in label {label_id}.')\n",
    "        else:\n",
    "            for message in messages:\n",
    "                msg = service.users().messages().get(userId='me', id=message['id']).execute()\n",
    "                payload = msg['payload']\n",
    "                data = ''\n",
    "\n",
    "                if 'parts' in payload:\n",
    "                    for part in payload['parts']:\n",
    "                        if part.get('mimeType') == 'text/plain' and 'data' in part['body']:\n",
    "                            data = part['body']['data']\n",
    "                            break\n",
    "                elif 'body' in payload and 'data' in payload['body']:\n",
    "                    data = payload['body']['data']\n",
    "\n",
    "                if data:\n",
    "                    # Get the date of the email\n",
    "                    date_str = msg['internalDate']\n",
    "                    date = datetime.fromtimestamp(int(date_str) / 1000).date()\n",
    "\n",
    "                    # Check if the email is from today\n",
    "                    if date == today:\n",
    "                        msg_str = base64.urlsafe_b64decode(data.encode('ASCII')).decode('utf-8')\n",
    "                        classification = classify_email(msg_str, model, tfidf)  # Pass model and tfidf arguments\n",
    "                        print(f\"Message snippet: {msg['snippet']}\")\n",
    "                        print(f\"Classification: {classification}\")\n",
    "                        if classification == 'phishing' and label_id != 'SPAM':  # Add condition to avoid modifying 'SPAM' label\n",
    "                            # Move to spam\n",
    "                            service.users().messages().modify(userId='me', id=message['id'], body={'addLabelIds': ['SPAM']}).execute()\n",
    "\n",
    "# Fetch and classify emails received today\n",
    "fetch_today_emails(service, model, tfidf)\n"
   ]
  },
  {
   "cell_type": "code",
   "execution_count": null,
   "id": "e05f2880-6834-4008-9f04-f716c67d26d8",
   "metadata": {},
   "outputs": [],
   "source": []
  }
 ],
 "metadata": {
  "kernelspec": {
   "display_name": "Python 3 (ipykernel)",
   "language": "python",
   "name": "python3"
  },
  "language_info": {
   "codemirror_mode": {
    "name": "ipython",
    "version": 3
   },
   "file_extension": ".py",
   "mimetype": "text/x-python",
   "name": "python",
   "nbconvert_exporter": "python",
   "pygments_lexer": "ipython3",
   "version": "3.11.7"
  }
 },
 "nbformat": 4,
 "nbformat_minor": 5
}
